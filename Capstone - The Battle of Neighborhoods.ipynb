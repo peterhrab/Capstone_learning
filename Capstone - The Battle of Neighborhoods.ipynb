{
    "nbformat_minor": 1, 
    "cells": [
        {
            "source": "# Capstone - The Battle of Neighborhoods - Final Assignment", 
            "cell_type": "markdown", 
            "metadata": {
                "collapsed": true
            }
        }, 
        {
            "source": "## Introduction \n\nThe real estate prices have significantly increased in Budapest, Hungary in the last couple of years. It is very difficult to find flats for reasonable prices nowadays. \nAs the prices are really high one needs to do a very thorough discovery before buying or renting a flat. When choosing the neighborhood and the flat different age groups chose flats based on different factors and it is difficult to find information in one place. For example for youngers it might be more important to have many places near by where they can live social life ie. bars, restaurants etc. However, for younger couples for example it might be more important if day care for children, schools are available but such data or view is not available combined with other type of venues and prices.\nUsing this project my goal is to help those who consider to buy or rent a flat in Budapest. Specially helping younger couples with analyzing the different neighborhoods in Budapest so they can hopefully easier find the right flat.", 
            "cell_type": "markdown", 
            "metadata": {}
        }, 
        {
            "source": "## Data\n\nI will rely on several data sources in the analysis. \n- **Budapest postal code** data will be pulled from Wikipedia: https://en.wikipedia.org/wiki/List_of_postal_codes_in_Hungary. This will give the name of the districts. The latitude and longitudes will be pulled using the geocoder service.\n- Venue data will pulled via **Foursquare API** that will contain several categories of venues. The type and location of the venue will be used in the analysis.\n- *Data about **children daycare, schools** will be pulled from publicly available sources like https://holmivan.valami.info or http://budapest.imami.hu. This data will contain the address and name of the venue. The longitude and latitude will be pulled based on the address.\n- **Real estate prices** for Budapest will be pulled from sources like https://www.ingatlannet.hu. This data will contain average square meter prices by neighborhoods.\n\n### Data examples\n\n#### Budapest ZIP codes\n- 1010 - V\u00e1rker\u00fclet (I.)\n- 1020 - 2nd district (II.)\n- 1030 - \u00d3buda-B\u00e9k\u00e1smegyer (III.)\n- ...\n\n#### Daycare, shool data\n- Bagolyv\u00e1r Alap\u00edtv\u00e1ny \u00d3voda, Csal\u00e1di Napk\u00f6zi, Address: 1224 Budapest, XV. utca 53.\n\n#### Real estate prices\n- District - V\u00e1rker\u00fclet, Date: 2019-06, Average square meter price: 755,854.00 HUF", 
            "cell_type": "markdown", 
            "metadata": {}
        }, 
        {
            "execution_count": null, 
            "cell_type": "code", 
            "metadata": {}, 
            "outputs": [], 
            "source": ""
        }
    ], 
    "metadata": {
        "kernelspec": {
            "display_name": "Python 3.6", 
            "name": "python3", 
            "language": "python"
        }, 
        "language_info": {
            "mimetype": "text/x-python", 
            "nbconvert_exporter": "python", 
            "version": "3.6.8", 
            "name": "python", 
            "file_extension": ".py", 
            "pygments_lexer": "ipython3", 
            "codemirror_mode": {
                "version": 3, 
                "name": "ipython"
            }
        }
    }, 
    "nbformat": 4
}