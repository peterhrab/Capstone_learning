{
    "nbformat_minor": 1, 
    "cells": [
        {
            "source": "# Capstone - The Battle of Neighborhoods - Final Assignment", 
            "cell_type": "markdown", 
            "metadata": {
                "collapsed": true
            }
        }, 
        {
            "source": "## Introduction \n\nThe real estate prices have significantly increased in Budapest, Hungary in the last couple of years. It is very difficult to find flats for reasonable prices nowadays. \nAs the prices are really high one needs to do a very thorough discovery before buying or renting a flat. When choosing the neighborhood and the flat different age groups chose flats based on different factors and it is difficult to find information in one place. For example for youngers it might be more important to have many places near by where they can live social life ie. bars, restaurants etc. However, for younger couples for example it might be more important if day care for children, schools are available but such data or view is not available combined with other type of venues and prices.\nUsing this project my goal is to help those who consider to buy or rent a flat in Budapest. Specially helping younger couples with analyzing the different neighborhoods in Budapest so they can hopefully easier find the right flat.", 
            "cell_type": "markdown", 
            "metadata": {}
        }, 
        {
            "source": "## Data\n\nI will rely on several data sources in the analysis. \n- Venue data will pulled via **Foursquare API** that will contain several categories of venues.\n- *Data about **children daycare, schools** will be pulled from publicly available sources like https://holmivan.valami.info or http://budapest.imami.hu\n- **Real estate prices** for Budapest will be pulled from sources like https://www.ingatlannet.hu\n", 
            "cell_type": "markdown", 
            "metadata": {}
        }, 
        {
            "execution_count": null, 
            "cell_type": "code", 
            "metadata": {}, 
            "outputs": [], 
            "source": ""
        }, 
        {
            "execution_count": null, 
            "cell_type": "code", 
            "metadata": {}, 
            "outputs": [], 
            "source": ""
        }
    ], 
    "metadata": {
        "kernelspec": {
            "display_name": "Python 3.6", 
            "name": "python3", 
            "language": "python"
        }, 
        "language_info": {
            "mimetype": "text/x-python", 
            "nbconvert_exporter": "python", 
            "version": "3.6.8", 
            "name": "python", 
            "file_extension": ".py", 
            "pygments_lexer": "ipython3", 
            "codemirror_mode": {
                "version": 3, 
                "name": "ipython"
            }
        }
    }, 
    "nbformat": 4
}